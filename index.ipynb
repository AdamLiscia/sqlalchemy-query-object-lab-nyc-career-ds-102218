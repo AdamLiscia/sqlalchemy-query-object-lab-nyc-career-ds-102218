{
 "cells": [
  {
   "cell_type": "markdown",
   "metadata": {},
   "source": [
    "# SQLAlchemy Query Objects Lab"
   ]
  },
  {
   "cell_type": "markdown",
   "metadata": {},
   "source": [
    "In this lab we will use the `query()` method with a `session` to create Query objects and pull data from the database."
   ]
  },
  {
   "cell_type": "markdown",
   "metadata": {},
   "source": [
    "## Objectives\n",
    "\n",
    "1.  Become comfortable working with `query` objects to pull information from a database using SQLAlchemy\n",
    "2.  Use `filter` and `filter_by` to pull data that meets certain criteria\n",
    "3.  Use `order_by` to order resulting data and use `desc` to order from highest to lowest\n",
    "4.  Use an index range to limit the number of results of a query"
   ]
  },
  {
   "cell_type": "markdown",
   "metadata": {},
   "source": [
    "## Dow Jones Industrials Table 2.0\n",
    "\n",
    "We will once again query from the table of companies making up the Dow Jones Industrial Average index.  However, this time we will use SQLAlchemy to write SQL commands for us.  Write your SQLAlchemy queries in the methods defined in the `queries.py` file.  A sample from the `companies` table is featured below:\n",
    "\n",
    "company         |exchange|symbol|industry                         |date_added|enterprise_value|\n",
    "----------------|--------|------|---------------------------------|----------|----------------|\n",
    "3M              |NYSE    |MMM   |Conglomerate                     |1976-08-09|133.31          |\n",
    "American Express|NYSE    |AXP   |Financial services               |1982-08-30|98.08           |\n",
    "Apple           |NASDAQ  |AAPL  |Technology                       |2015-03-19|954.8           |\n",
    "Boeing          |NYSE    |BA    |Manufacturing                    |1987-03-12|196.37          |\n",
    "Caterpillar     |NYSE    |CAT   |Manufacturing                    |1991-05-06|118.42          |\n",
    "Chevron         |NYSE    |CVX   |Oil & gas                        |2008-02-19|264.51          |"
   ]
  },
  {
   "cell_type": "markdown",
   "metadata": {},
   "source": [
    "* `return_apple`\n",
    "\n",
    "Write a qeury that returns a Company object for Apple.  We can get the Company object from the Query object by chaining `[0]` to the end of the query."
   ]
  },
  {
   "cell_type": "markdown",
   "metadata": {},
   "source": [
    "* `return_disneys_industry`\n",
    "\n",
    "Write a query that return a Company object for Disney.  Return the company's industry from this object."
   ]
  },
  {
   "cell_type": "markdown",
   "metadata": {},
   "source": [
    "* `return_list_of_company_objects_ordered_alphabetically_by_symbol`\n",
    "\n",
    "Write a query that returns a list of Company objects for all the companies in the Dow.  The list should be ordered alphabetically by `symbol`."
   ]
  },
  {
   "cell_type": "markdown",
   "metadata": {},
   "source": [
    "* `return_list_of_dicts_of_tech_company_names_and_their_EVs_ordered_by_EV_descending`\n",
    "\n",
    "Write a query that returns a list of dictionaries for all the technology companies in the DJIA.  Each dictionary will have keys of `'company'` and `EV` that point to the respective company name and enterprise value for each company.  The list should be ordered by enterprise value from greatest to least."
   ]
  },
  {
   "cell_type": "markdown",
   "metadata": {},
   "source": [
    "* `return_list_of_consumer_products_companies_with_EV_above_225`\n",
    "\n",
    "Write a query that returns a those consumer products companies with an enterprise value over $225 billion.  The query should return a list of dictionaries.  Each dictionary will have a key of `name` that points to the company's full name."
   ]
  },
  {
   "cell_type": "markdown",
   "metadata": {},
   "source": [
    "* `return_conglomerates_and_pharmaceutical_companies`\n",
    "\n",
    "Write a query that returns all companies in the conglomerates or pharmaceuticals industries.  The query will return a list of all the company names that match this criteria."
   ]
  },
  {
   "cell_type": "markdown",
   "metadata": {},
   "source": [
    "* `test_return_name_and_industry_of_top_three_EV_companies`\n",
    "\n",
    "Write a query returns the a list of the three companies with the highest enterprise values.  The list will contain dictionaries with keys of `'name'` and `'industry'` that point to each company's respective name and industry.  The list will be ordered descending from the highest enterprise value."
   ]
  }
 ],
 "metadata": {
  "kernelspec": {
   "display_name": "Python 3",
   "language": "python",
   "name": "python3"
  },
  "language_info": {
   "codemirror_mode": {
    "name": "ipython",
    "version": 3
   },
   "file_extension": ".py",
   "mimetype": "text/x-python",
   "name": "python",
   "nbconvert_exporter": "python",
   "pygments_lexer": "ipython3",
   "version": "3.6.4"
  }
 },
 "nbformat": 4,
 "nbformat_minor": 2
}
